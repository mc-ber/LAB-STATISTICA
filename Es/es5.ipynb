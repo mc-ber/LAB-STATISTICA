{
 "cells": [
  {
   "cell_type": "code",
   "execution_count": 3,
   "id": "ac5d3354-76d0-4c31-9e81-7158ae17a3a2",
   "metadata": {},
   "outputs": [],
   "source": [
    "import numpy as np\n",
    "import matplotlib.pyplot as plt\n",
    "from random import uniform\n",
    "from iminuit import Minuit\n",
    "from iminuit.cost import LeastSquares"
   ]
  },
  {
   "cell_type": "markdown",
   "id": "132efa2f-7ce3-4feb-8f74-acd33bbe7c4e",
   "metadata": {},
   "source": [
    "## GENERAZIONE UNIFORME DI EVENTI TRIDIMENSIONALI"
   ]
  },
  {
   "cell_type": "code",
   "execution_count": 4,
   "id": "caab4a56-ff8c-487e-94ff-8c680313212b",
   "metadata": {},
   "outputs": [],
   "source": [
    "def f(x, y):\n",
    "    return np.exp(-x) * np.cos(y)"
   ]
  },
  {
   "cell_type": "code",
   "execution_count": 5,
   "id": "a6192de9-71e7-46ec-9f19-b599976efc9b",
   "metadata": {},
   "outputs": [],
   "source": [
    "n = 1000\n",
    "\n",
    "x = np.array([uniform(0, np.exp(1)) for i in range (n)])\n",
    "y = np.array([uniform(-np.pi/2, np.pi/2) for i in range (n)])\n",
    "z = f(x, y)"
   ]
  },
  {
   "cell_type": "markdown",
   "id": "019ec9be-fc1e-48a5-95ae-030ef92a5ac8",
   "metadata": {},
   "source": [
    "## CALCOLO INTEGRALE 3D CON HIT OR MISS"
   ]
  },
  {
   "cell_type": "code",
   "execution_count": 6,
   "id": "ad18f5f5-cc3a-4623-8ab3-a0807b92f4c6",
   "metadata": {},
   "outputs": [],
   "source": [
    "from myrand import generate_range\n",
    "\n",
    "#CREO UNA FUNZIONE CHE GENERI MOLTI DATI IN 3 DIMENSIONI (SOTTOSTANTI ALLA FUNZIONE)\n",
    "\n",
    "def integral_HOM3 (func, xMin, xMax, yMin, yMax, zMax, N_evt):\n",
    "    x_coord = generate_range(xMin, xMax, N_evt)\n",
    "    y_coord = generate_range(yMin, yMax, N_evt)\n",
    "    z_coord = generate_range(0., zMax, N_evt)\n",
    "\n",
    "    point_under = 0\n",
    "    for x, y, z in zip (x_coord, y_coord, z_coord):\n",
    "        if func(x, y) > z : point_under += 1\n",
    "\n",
    "    Area_cubo = (xMax - xMin) * (yMax - yMin) * zMax\n",
    "    frac = float (point_under) / float(N_evt)\n",
    "    integral = Area_cubo * frac\n",
    "    int_uncert = Area_cubo**2 * frac * (1 - frac) / N_evt\n",
    "    \n",
    "    return integral, int_uncert"
   ]
  },
  {
   "cell_type": "code",
   "execution_count": 7,
   "id": "2b5b28c7-58fd-4336-be51-7637ddb8c644",
   "metadata": {},
   "outputs": [
    {
     "name": "stdout",
     "output_type": "stream",
     "text": [
      "area: 1.9304264684161518, errore: 0.012405688931257637\n"
     ]
    }
   ],
   "source": [
    "Area, errore = integral_HOM3(f, 0, np.exp(1), -np.pi/2, np.pi/2, np.max(z), n)\n",
    "print(f'area: {Area}, errore: {errore}')"
   ]
  },
  {
   "cell_type": "markdown",
   "id": "faca3317-7e37-489a-a1b9-b7296b1e6713",
   "metadata": {},
   "source": [
    "## 100 TOYS SUL CALCOLO DELL'INTEGRALE E ISTOGRAMMA ASSOCIATO"
   ]
  },
  {
   "cell_type": "code",
   "execution_count": 10,
   "id": "ffaaf040-01d4-4324-84bb-14f3d85d559e",
   "metadata": {},
   "outputs": [
    {
     "data": {
      "image/png": "[encoded data removed]",
      "text/plain": [
       "<Figure size 640x480 with 1 Axes>"
      ]
     },
     "metadata": {},
     "output_type": "display_data"
    }
   ],
   "source": [
    "def sturges(N_evts):\n",
    "    return int(np.ceil(1 + 3.322 * np.log(N_evts)))\n",
    "\n",
    "n_toy = 100\n",
    "integrale = []\n",
    "for i in range (n_toy):\n",
    "  x_coord = np.array([uniform(0, np.exp(1)) for b in range (n)])\n",
    "  y_coord = np.array([uniform(-np.pi/2, np.pi/2) for b in range (n)])\n",
    "  z_coord = f(x_coord, y_coord)\n",
    "  integ, err = integral_HOM3(f, 0, np.exp(1), -np.pi/2, np.pi/2, np.max(z_coord), n)\n",
    "  integrale.append(integ)\n",
    "\n",
    "N_bins = sturges(n_toy)\n",
    "bin_edges = np.linspace(np.min(integrale)-1, np.max(integrale), N_bins);\n",
    "fig, ax = plt.subplots(nrows =1, ncols=1);\n",
    "ax.hist(integrale, bins = N_bins);"
   ]
  },
  {
   "cell_type": "markdown",
   "id": "e7bf2950-2aac-447e-b28d-7dcc2943bbcc",
   "metadata": {},
   "source": [
    "## confronto gli errori"
   ]
  },
  {
   "cell_type": "code",
   "execution_count": 12,
   "id": "25d8fe75-9c0e-4948-a102-cdaaf25313d5",
   "metadata": {},
   "outputs": [
    {
     "name": "stdout",
     "output_type": "stream",
     "text": [
      "errore su area dato da istogramma: 0.01192272289373322\n",
      "errore su area dato dalla funzione HOM: 0.012405688931257637\n"
     ]
    }
   ],
   "source": [
    "hist_err = np.std(integrale) / np.sqrt(n_toy)  #spostamento dei dati / numero dati\n",
    "print(f'errore su area dato da istogramma: {hist_err}')\n",
    "print(f'errore su area dato dalla funzione HOM: {errore}')"
   ]
  },
  {
   "cell_type": "markdown",
   "id": "eee8c097-b92d-4068-be87-4f0f4fd92648",
   "metadata": {},
   "source": [
    "## studio l'evoluzione della precisione del calcolo in funzione del numero di eventi generati (usare scala logaritmica)"
   ]
  },
  {
   "cell_type": "code",
   "execution_count": 17,
   "id": "ee047c79-f7e8-44b7-8809-b9ff1a11f40a",
   "metadata": {},
   "outputs": [
    {
     "data": {
      "image/png": "[encoded data removed]",
      "text/plain": [
       "<Figure size 640x480 with 1 Axes>"
      ]
     },
     "metadata": {},
     "output_type": "display_data"
    }
   ],
   "source": [
    "from math import floor\n",
    "\n",
    "N_events = np.logspace(2, 5, num = 25)  #costruisco la scala logaritmica del numero di eventi\n",
    "N_ev = N_events.astype(int)             #li rendo tutti numeri interi\n",
    "\n",
    "integrals = []\n",
    "int_uncertainties = []\n",
    "\n",
    "for evt in N_ev:\n",
    "    x_c = np.array([uniform(0, np.exp(1)) for i in range (n)])\n",
    "    y_c = np.array([uniform(-np.pi/2, np.pi/2) for i in range (n)])\n",
    "    z_c = f(x_c, y_c)\n",
    "    integra, int_uncertain = integral_HOM3(f, 0, np.exp(1), -np.pi/2, np.pi/2, np.max(z_c), evt)\n",
    "    integrals.append(integra)\n",
    "    int_uncertainties.append(int_uncertain)\n",
    "\n",
    "fig, ax = plt.subplots(nrows = 1, ncols = 1)\n",
    "ax.errorbar(N_events, int_uncertainties)\n",
    "ax.set_ylabel('errori')\n",
    "ax.set_xlabel('conteggi')\n",
    "ax.set_xscale('log')\n"
   ]
  },
  {
   "cell_type": "markdown",
   "id": "2282f707-541b-4739-bfd5-1822945c2565",
   "metadata": {},
   "source": [
    "Noto: con l'aumentare degli eventi la precisione migliora"
   ]
  }
 ],
 "metadata": {
  "kernelspec": {
   "display_name": "Python 3 (ipykernel)",
   "language": "python",
   "name": "python3"
  },
  "language_info": {
   "codemirror_mode": {
    "name": "ipython",
    "version": 3
   },
   "file_extension": ".py",
   "mimetype": "text/x-python",
   "name": "python",
   "nbconvert_exporter": "python",
   "pygments_lexer": "ipython3",
   "version": "3.11.7"
  }
 },
 "nbformat": 4,
 "nbformat_minor": 5
}
