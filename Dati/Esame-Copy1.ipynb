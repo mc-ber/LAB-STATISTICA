{
 "cells": [
  {
   "cell_type": "code",
   "execution_count": null,
   "id": "38814692-27ae-4b96-8f62-988adde68e14",
   "metadata": {},
   "outputs": [],
   "source": [
    "import numpy as np\n",
    "import matplotlib.pyplot as plt"
   ]
  },
  {
   "cell_type": "markdown",
   "id": "9ee64946-ad1b-475d-8595-91bae1b3f1f3",
   "metadata": {},
   "source": [
    "# Domanda 1"
   ]
  },
  {
   "cell_type": "markdown",
   "id": "6c1f034e-7701-4d67-9c36-4a53776e71d1",
   "metadata": {},
   "source": [
    "Si scriva una funzione che simuli il cammino degli abitanti del villaggio dopo aver bevuto la grappa,\n",
    "assumendo che si spostino in piano, che ogni passo abbia direzione casuale uniforme angolarmente\n",
    "ed una lunghezza distribuita secondo una distribuzione Gaussiana con media 1 e larghezza 0.2,\n",
    "troncata a valori positivi."
   ]
  },
  {
   "cell_type": "code",
   "execution_count": null,
   "id": "080567f2-28ff-4134-b679-1e71471934ba",
   "metadata": {},
   "outputs": [],
   "source": [
    "from myrand import generate_range, rand_TCL_ms"
   ]
  },
  {
   "cell_type": "raw",
   "id": "48b3eaa4-8406-4c72-8db5-f11a3955d8c4",
   "metadata": {},
   "source": [
    "def cammino(N):\n",
    "            \n",
    "    #tronco la gaussiana ai valori positivi\n",
    "    steps = []\n",
    "    for i in range(N):\n",
    "        step = rand_TCL_ms(1, 0.2) \n",
    "        if step <= 0: steps.append(0)\n",
    "        if step > 0: steps.append(step)\n",
    "   \n",
    "    axis = generate_range(0, 2*np.pi, N)       #assi del piano \n",
    "    dx = steps*np.cos(axis)                    #spostamento sulle x\n",
    "    dy = steps*np.sin(axis)                    #spostamento sulle y\n",
    "    x = np.cumsum(dx)                          #posizione sulle x\n",
    "    y = np.cumsum(dy)                          #posizione sulle y\n",
    "    dist = ((x[N-1])**2 + (y[N-1])**2)** 0.5   #posizione finale\n",
    "    return x, y, dist"
   ]
  },
  {
   "cell_type": "markdown",
   "id": "494daaad-6621-4de6-8047-58b4dda93fba",
   "metadata": {},
   "source": [
    "# Domanda 2"
   ]
  },
  {
   "cell_type": "markdown",
   "id": "beadf718-c81b-4e3d-9c22-ad6c2ef35d3e",
   "metadata": {},
   "source": [
    "Immaginando che il calderone si trovi alle coordinate (0, 0) sul piano, si scriva una funzione che\n",
    "calcoli la posizione (x, y) raggiunta da Asterix dopo N = 10 passi e si disegni il suo percorso."
   ]
  },
  {
   "cell_type": "raw",
   "id": "4b758ca5-286c-46f4-aaf4-4817eba328a9",
   "metadata": {},
   "source": [
    "N = 10\n",
    "x, y, dist = cammino(N)\n",
    "maxx = x[N-1]\n",
    "maxy = y[N-1]\n",
    "print(f'La posizione di Asterix è: ({maxx:.2f}, {maxy:.2f})')\n",
    "\n",
    "fig, ax = plt.subplots(nrows = 1, ncols = 1)\n",
    "ax.plot(x, y, marker = 'o', color = 'black');\n",
    "ax.set_ylabel('y');\n",
    "ax.set_xlabel('x');\n",
    "plt.grid()"
   ]
  },
  {
   "cell_type": "markdown",
   "id": "a2424ddb-9ae5-4224-b7f9-f5cbe144cb83",
   "metadata": {},
   "source": [
    "# Domanda 3"
   ]
  },
  {
   "cell_type": "markdown",
   "id": "b0e46e94-9aee-4574-ae0a-f3e656a19ac0",
   "metadata": {},
   "source": [
    "Si consideri ora l’intera popolazione: si determini la posizione (x, y) di ogni abitante dopo N =\n",
    "10 passi a partire dal calderone e si disegni le distribuzione della distanza raggiunta dal punto di\n",
    "partenza, assumendo la popolazione totale composta da 10000 persone."
   ]
  },
  {
   "cell_type": "code",
   "execution_count": null,
   "id": "c0df6573-e5fe-4b22-8c8d-308766b54886",
   "metadata": {},
   "outputs": [],
   "source": [
    "from mix import sturges"
   ]
  },
  {
   "cell_type": "raw",
   "id": "180c7ee4-3ce7-4c04-81e2-40b07de3211a",
   "metadata": {},
   "source": [
    "N_toy = 10000\n",
    "\n",
    "distanza = []\n",
    "\n",
    "# tramite un toy experiment simulo 10000 volte 10 passi di un abitante\n",
    "\n",
    "for i in range(N_toy):\n",
    "  N = 10\n",
    "  x, y, dista = cammino(N)\n",
    "  distanza.append(dista)\n",
    "\n",
    "# effettuo l'operazione di binning\n",
    "\n",
    "bin = sturges(N_toy)\n",
    "bin_content, bin_edges = np.histogram(distanza, bin)\n",
    "\n",
    "fig, ax = plt.subplots(nrows = 1, ncols = 1)\n",
    "ax.hist(distanza, bin_edges, edgecolor = 'black', color = 'tan');\n",
    "ax.set_xlabel('distanza');\n",
    "ax.set_ylabel('individui');"
   ]
  },
  {
   "cell_type": "markdown",
   "id": "43418f03-f590-4611-8a49-a494cc77b635",
   "metadata": {},
   "source": [
    "# Domanda 4"
   ]
  },
  {
   "cell_type": "markdown",
   "id": "4fa37eb9-9517-400e-b27e-88104ac4b1c8",
   "metadata": {},
   "source": [
    "Si determinino media, varianza, asimmetria e curtosi della distribuzione ottenuta."
   ]
  },
  {
   "cell_type": "code",
   "execution_count": null,
   "id": "32846c22-0f25-45c2-b0cd-a54704dc89b7",
   "metadata": {},
   "outputs": [],
   "source": [
    "from stats import stats"
   ]
  },
  {
   "cell_type": "raw",
   "id": "15f2b9a1-3726-4bc9-8887-64b7aa2c9383",
   "metadata": {},
   "source": [
    "#applico ai dati una classe che calcoli automaticamente i valori\n",
    "\n",
    "stat = stats(distanza)\n",
    "mean = stat.mean()\n",
    "var = stat.variance()\n",
    "asi = stat.skewness()\n",
    "kurt = stat.kurtosis()\n",
    "\n",
    "print(f'Media: {mean:.3f}\\n')\n",
    "print(f'Varianza: {var:.3f}\\n')\n",
    "print(f'Asimmetria: {asi:.3f}\\n')\n",
    "print(f'Curtosi: {kurt:.3f}\\n')"
   ]
  },
  {
   "cell_type": "markdown",
   "id": "f2a06473-e0b5-4ff2-9faa-f5bfc50fa9fa",
   "metadata": {},
   "source": [
    "# Domanda 5"
   ]
  },
  {
   "cell_type": "markdown",
   "id": "57e82a25-19a6-4115-890d-7e484afdbdcc",
   "metadata": {},
   "source": [
    "Se la lunghezza dei passi è costante uguale ad 1, la distribuzione delle distanze r dopo N passi segue\n",
    "una distribuzione di Rayleigh.\n",
    "Si utilizzi un fit per determinare, a partire dalla distribuzione di distanze costruita in queste ipotesi,\n",
    "il numero di passi effettuati, sapendo che la distribuzione di Rayleigh è presente in scipy come\n",
    "scipy.stats.rayleigh e che per ottenere la forma funzionale di interesse per il problema questa\n",
    "distribuzione ha come parametri loc = 0 e scale = √N/2 (dove N è il numero di passi)."
   ]
  },
  {
   "cell_type": "code",
   "execution_count": null,
   "id": "54ac39d9-6779-4241-aee7-e234b20d8e5d",
   "metadata": {},
   "outputs": [],
   "source": [
    "def cammino_1(N):\n",
    "    step = np.full(N, 1)                       #lunghezza dei passi costante\n",
    "    axis = generate_range(0, 2*np.pi, N)       #assi del piano          \n",
    "    dx = step*np.cos(axis)                     #spostamento su x\n",
    "    dy = step*np.sin(axis)                     #spostamento su y\n",
    "    x = np.cumsum(dx)                          #posizione x\n",
    "    y = np.cumsum(dy)                          #posizione y\n",
    "    dist = ((x[N-1])**2 + (y[N-1])**2)** 0.5\n",
    "    return dist"
   ]
  },
  {
   "cell_type": "raw",
   "id": "d0d3aae2-ffa9-4212-97eb-4b96cb18563b",
   "metadata": {},
   "source": [
    "#ripeto il toy\n",
    "\n",
    "distanz = []\n",
    "\n",
    "for i in range(N_toy):\n",
    "  dist = cammino_1(N)\n",
    "  distanz.append(dist)\n",
    "\n",
    "bin_content2, bin_edges2 = np.histogram(distanz, bin)\n",
    "\n",
    "fig, ax = plt.subplots(nrows = 1, ncols = 1)\n",
    "ax.hist(distanz, bin_edges2, label = 'step = 1');\n",
    "ax.hist(distanza, bin_edges, histtype = 'step', color = 'tan', label = 'step = gauss(mu = 1, s = 0.2)');\n",
    "ax.set_xlabel('distanza');\n",
    "ax.set_ylabel('individui');\n",
    "ax.legend();"
   ]
  },
  {
   "cell_type": "code",
   "execution_count": 142,
   "id": "c8bedc42-05e2-4e11-b74a-9450cb64a0c9",
   "metadata": {},
   "outputs": [],
   "source": [
    "from scipy.stats import rayleigh\n",
    "from iminuit import Minuit\n",
    "from iminuit.cost import ExtendedBinnedNLL"
   ]
  },
  {
   "cell_type": "raw",
   "id": "086df4ea-56fd-4873-bceb-35ad853d4c46",
   "metadata": {},
   "source": [
    "def mod_total(bin_edges, N_signal, n):\n",
    "    return N_signal * rayleigh.cdf(bin_edges, 0, np.sqrt(n/2))\n",
    "\n",
    "my_cost_func = ExtendedBinnedNLL(bin_content2, bin_edges2, mod_total)\n",
    "\n",
    "fit = Minuit(my_cost_func, N_signal = N_toy, n = 10)\n",
    "\n",
    "fit.migrad()\n",
    "fit.hesse()"
   ]
  },
  {
   "cell_type": "raw",
   "id": "95e3acab-9686-49f9-800c-eb49f098672e",
   "metadata": {},
   "source": [
    "numero = fit.values['n']\n",
    "print(f'Numero di passi stimato a partire dai dati: {numero:.3f}')"
   ]
  }
 ],
 "metadata": {
  "kernelspec": {
   "display_name": "Python 3 (ipykernel)",
   "language": "python",
   "name": "python3"
  },
  "language_info": {
   "codemirror_mode": {
    "name": "ipython",
    "version": 3
   },
   "file_extension": ".py",
   "mimetype": "text/x-python",
   "name": "python",
   "nbconvert_exporter": "python",
   "pygments_lexer": "ipython3",
   "version": "3.11.7"
  }
 },
 "nbformat": 4,
 "nbformat_minor": 5
}
